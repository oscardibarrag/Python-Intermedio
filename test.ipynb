{
 "cells": [
  {
   "cell_type": "markdown",
   "metadata": {},
   "source": [
    "# Mi primer cuaderno de trabajo"
   ]
  },
  {
   "cell_type": "code",
   "execution_count": 1,
   "metadata": {},
   "outputs": [
    {
     "name": "stdout",
     "output_type": "stream",
     "text": [
      "Hola mundo\n"
     ]
    }
   ],
   "source": [
    "print(\"Hola mundo\")\n",
    "print(\"\")"
   ]
  },
  {
   "cell_type": "markdown",
   "metadata": {},
   "source": [
    "# install numpy"
   ]
  },
  {
   "cell_type": "code",
   "execution_count": 1,
   "metadata": {},
   "outputs": [
    {
     "name": "stdout",
     "output_type": "stream",
     "text": [
      "Collecting numpy\n",
      "  Downloading numpy-1.25.1-cp311-cp311-win_amd64.whl (15.0 MB)\n",
      "                                              0.0/15.0 MB ? eta -:--:--\n",
      "                                              0.1/15.0 MB 3.3 MB/s eta 0:00:05\n",
      "                                              0.2/15.0 MB 2.9 MB/s eta 0:00:06\n",
      "     -                                        0.5/15.0 MB 3.9 MB/s eta 0:00:04\n",
      "     -                                        0.7/15.0 MB 4.0 MB/s eta 0:00:04\n",
      "     --                                       0.9/15.0 MB 4.3 MB/s eta 0:00:04\n",
      "     ---                                      1.2/15.0 MB 4.3 MB/s eta 0:00:04\n",
      "     ---                                      1.4/15.0 MB 4.4 MB/s eta 0:00:04\n",
      "     ----                                     1.6/15.0 MB 4.5 MB/s eta 0:00:03\n",
      "     ----                                     1.9/15.0 MB 4.6 MB/s eta 0:00:03\n",
      "     -----                                    2.1/15.0 MB 4.6 MB/s eta 0:00:03\n",
      "     -----                                    2.2/15.0 MB 4.7 MB/s eta 0:00:03\n",
      "     ------                                   2.4/15.0 MB 4.5 MB/s eta 0:00:03\n",
      "     ------                                   2.5/15.0 MB 4.5 MB/s eta 0:00:03\n",
      "     -------                                  2.7/15.0 MB 4.1 MB/s eta 0:00:03\n",
      "     -------                                  2.8/15.0 MB 4.1 MB/s eta 0:00:03\n",
      "     -------                                  2.9/15.0 MB 4.0 MB/s eta 0:00:04\n",
      "     -------                                  2.9/15.0 MB 3.8 MB/s eta 0:00:04\n",
      "     --------                                 3.1/15.0 MB 3.8 MB/s eta 0:00:04\n",
      "     --------                                 3.1/15.0 MB 3.6 MB/s eta 0:00:04\n",
      "     --------                                 3.2/15.0 MB 3.5 MB/s eta 0:00:04\n",
      "     --------                                 3.3/15.0 MB 3.5 MB/s eta 0:00:04\n",
      "     ---------                                3.4/15.0 MB 3.4 MB/s eta 0:00:04\n",
      "     ---------                                3.5/15.0 MB 3.3 MB/s eta 0:00:04\n",
      "     ---------                                3.6/15.0 MB 3.3 MB/s eta 0:00:04\n",
      "     ---------                                3.7/15.0 MB 3.2 MB/s eta 0:00:04\n",
      "     ----------                               3.8/15.0 MB 3.2 MB/s eta 0:00:04\n",
      "     ----------                               3.8/15.0 MB 3.1 MB/s eta 0:00:04\n",
      "     ----------                               3.9/15.0 MB 3.1 MB/s eta 0:00:04\n",
      "     ----------                               4.0/15.0 MB 3.0 MB/s eta 0:00:04\n",
      "     ----------                               4.1/15.0 MB 3.0 MB/s eta 0:00:04\n",
      "     -----------                              4.2/15.0 MB 2.9 MB/s eta 0:00:04\n",
      "     -----------                              4.2/15.0 MB 2.9 MB/s eta 0:00:04\n",
      "     -----------                              4.3/15.0 MB 2.9 MB/s eta 0:00:04\n",
      "     -----------                              4.4/15.0 MB 2.8 MB/s eta 0:00:04\n",
      "     -----------                              4.5/15.0 MB 2.8 MB/s eta 0:00:04\n",
      "     ------------                             4.5/15.0 MB 2.8 MB/s eta 0:00:04\n",
      "     ------------                             4.6/15.0 MB 2.7 MB/s eta 0:00:04\n",
      "     ------------                             4.7/15.0 MB 2.7 MB/s eta 0:00:04\n",
      "     ------------                             4.8/15.0 MB 2.7 MB/s eta 0:00:04\n",
      "     -------------                            4.9/15.0 MB 2.7 MB/s eta 0:00:04\n",
      "     -------------                            4.9/15.0 MB 2.6 MB/s eta 0:00:04\n",
      "     -------------                            5.0/15.0 MB 2.6 MB/s eta 0:00:04\n",
      "     -------------                            5.0/15.0 MB 2.6 MB/s eta 0:00:04\n",
      "     -------------                            5.1/15.0 MB 2.5 MB/s eta 0:00:04\n",
      "     -------------                            5.2/15.0 MB 2.5 MB/s eta 0:00:04\n",
      "     -------------                            5.2/15.0 MB 2.5 MB/s eta 0:00:04\n",
      "     -------------                            5.2/15.0 MB 2.4 MB/s eta 0:00:05\n",
      "     --------------                           5.3/15.0 MB 2.4 MB/s eta 0:00:05\n",
      "     --------------                           5.3/15.0 MB 2.4 MB/s eta 0:00:05\n",
      "     --------------                           5.3/15.0 MB 2.3 MB/s eta 0:00:05\n",
      "     --------------                           5.4/15.0 MB 2.3 MB/s eta 0:00:05\n",
      "     --------------                           5.4/15.0 MB 2.3 MB/s eta 0:00:05\n",
      "     --------------                           5.5/15.0 MB 2.2 MB/s eta 0:00:05\n",
      "     --------------                           5.5/15.0 MB 2.2 MB/s eta 0:00:05\n",
      "     --------------                           5.5/15.0 MB 2.2 MB/s eta 0:00:05\n",
      "     --------------                           5.6/15.0 MB 2.2 MB/s eta 0:00:05\n",
      "     ---------------                          5.6/15.0 MB 2.1 MB/s eta 0:00:05\n",
      "     ---------------                          5.7/15.0 MB 2.1 MB/s eta 0:00:05\n",
      "     ---------------                          5.7/15.0 MB 2.1 MB/s eta 0:00:05\n",
      "     ---------------                          5.8/15.0 MB 2.1 MB/s eta 0:00:05\n",
      "     ---------------                          5.8/15.0 MB 2.1 MB/s eta 0:00:05\n",
      "     ---------------                          5.9/15.0 MB 2.1 MB/s eta 0:00:05\n",
      "     ---------------                          6.0/15.0 MB 2.1 MB/s eta 0:00:05\n",
      "     ----------------                         6.0/15.0 MB 2.0 MB/s eta 0:00:05\n",
      "     ----------------                         6.1/15.0 MB 2.0 MB/s eta 0:00:05\n",
      "     ----------------                         6.2/15.0 MB 2.0 MB/s eta 0:00:05\n",
      "     ----------------                         6.2/15.0 MB 2.0 MB/s eta 0:00:05\n",
      "     ----------------                         6.3/15.0 MB 2.0 MB/s eta 0:00:05\n",
      "     -----------------                        6.4/15.0 MB 2.0 MB/s eta 0:00:05\n",
      "     -----------------                        6.5/15.0 MB 2.0 MB/s eta 0:00:05\n",
      "     -----------------                        6.6/15.0 MB 2.0 MB/s eta 0:00:05\n",
      "     -----------------                        6.7/15.0 MB 2.0 MB/s eta 0:00:05\n",
      "     -----------------                        6.7/15.0 MB 2.0 MB/s eta 0:00:05\n",
      "     ------------------                       6.9/15.0 MB 2.0 MB/s eta 0:00:05\n",
      "     ------------------                       6.9/15.0 MB 2.0 MB/s eta 0:00:05\n",
      "     ------------------                       7.0/15.0 MB 2.0 MB/s eta 0:00:04\n",
      "     ------------------                       7.1/15.0 MB 2.0 MB/s eta 0:00:04\n",
      "     -------------------                      7.2/15.0 MB 2.0 MB/s eta 0:00:04\n",
      "     -------------------                      7.4/15.0 MB 2.0 MB/s eta 0:00:04\n",
      "     -------------------                      7.5/15.0 MB 2.0 MB/s eta 0:00:04\n",
      "     --------------------                     7.6/15.0 MB 2.0 MB/s eta 0:00:04\n",
      "     --------------------                     7.7/15.0 MB 2.0 MB/s eta 0:00:04\n",
      "     --------------------                     7.8/15.0 MB 2.0 MB/s eta 0:00:04\n",
      "     ---------------------                    7.9/15.0 MB 2.0 MB/s eta 0:00:04\n",
      "     ---------------------                    8.0/15.0 MB 2.0 MB/s eta 0:00:04\n",
      "     ---------------------                    8.2/15.0 MB 2.1 MB/s eta 0:00:04\n",
      "     ----------------------                   8.3/15.0 MB 2.1 MB/s eta 0:00:04\n",
      "     ----------------------                   8.4/15.0 MB 2.1 MB/s eta 0:00:04\n",
      "     ----------------------                   8.5/15.0 MB 2.1 MB/s eta 0:00:04\n",
      "     -----------------------                  8.7/15.0 MB 2.1 MB/s eta 0:00:04\n",
      "     -----------------------                  8.8/15.0 MB 2.1 MB/s eta 0:00:03\n",
      "     -----------------------                  8.9/15.0 MB 2.1 MB/s eta 0:00:03\n",
      "     ------------------------                 9.1/15.0 MB 2.1 MB/s eta 0:00:03\n",
      "     ------------------------                 9.2/15.0 MB 2.1 MB/s eta 0:00:03\n",
      "     ------------------------                 9.4/15.0 MB 2.1 MB/s eta 0:00:03\n",
      "     -------------------------                9.5/15.0 MB 2.1 MB/s eta 0:00:03\n",
      "     -------------------------                9.7/15.0 MB 2.2 MB/s eta 0:00:03\n",
      "     --------------------------               9.8/15.0 MB 2.2 MB/s eta 0:00:03\n",
      "     --------------------------               9.9/15.0 MB 2.2 MB/s eta 0:00:03\n",
      "     --------------------------               10.1/15.0 MB 2.2 MB/s eta 0:00:03\n",
      "     ---------------------------              10.2/15.0 MB 2.2 MB/s eta 0:00:03\n",
      "     ---------------------------              10.3/15.0 MB 2.2 MB/s eta 0:00:03\n",
      "     ---------------------------              10.4/15.0 MB 2.2 MB/s eta 0:00:03\n",
      "     ----------------------------             10.5/15.0 MB 2.2 MB/s eta 0:00:03\n",
      "     ----------------------------             10.7/15.0 MB 2.2 MB/s eta 0:00:03\n",
      "     ----------------------------             10.8/15.0 MB 2.1 MB/s eta 0:00:02\n",
      "     ----------------------------             10.9/15.0 MB 2.1 MB/s eta 0:00:02\n",
      "     -----------------------------            11.0/15.0 MB 2.1 MB/s eta 0:00:02\n",
      "     -----------------------------            11.1/15.0 MB 2.1 MB/s eta 0:00:02\n",
      "     -----------------------------            11.1/15.0 MB 2.1 MB/s eta 0:00:02\n",
      "     -----------------------------            11.2/15.0 MB 2.1 MB/s eta 0:00:02\n",
      "     ------------------------------           11.3/15.0 MB 2.1 MB/s eta 0:00:02\n",
      "     ------------------------------           11.4/15.0 MB 2.1 MB/s eta 0:00:02\n",
      "     ------------------------------           11.5/15.0 MB 2.1 MB/s eta 0:00:02\n",
      "     ------------------------------           11.6/15.0 MB 2.0 MB/s eta 0:00:02\n",
      "     -------------------------------          11.7/15.0 MB 2.0 MB/s eta 0:00:02\n",
      "     -------------------------------          11.8/15.0 MB 2.0 MB/s eta 0:00:02\n",
      "     -------------------------------          11.9/15.0 MB 2.0 MB/s eta 0:00:02\n",
      "     -------------------------------          12.0/15.0 MB 2.0 MB/s eta 0:00:02\n",
      "     --------------------------------         12.1/15.0 MB 2.0 MB/s eta 0:00:02\n",
      "     --------------------------------         12.2/15.0 MB 2.0 MB/s eta 0:00:02\n",
      "     --------------------------------         12.3/15.0 MB 2.0 MB/s eta 0:00:02\n",
      "     --------------------------------         12.4/15.0 MB 1.9 MB/s eta 0:00:02\n",
      "     ---------------------------------        12.4/15.0 MB 1.9 MB/s eta 0:00:02\n",
      "     ---------------------------------        12.5/15.0 MB 1.9 MB/s eta 0:00:02\n",
      "     ---------------------------------        12.6/15.0 MB 1.9 MB/s eta 0:00:02\n",
      "     ---------------------------------        12.7/15.0 MB 1.9 MB/s eta 0:00:02\n",
      "     ---------------------------------        12.7/15.0 MB 1.9 MB/s eta 0:00:02\n",
      "     ----------------------------------       12.8/15.0 MB 1.9 MB/s eta 0:00:02\n",
      "     ----------------------------------       12.9/15.0 MB 1.9 MB/s eta 0:00:02\n",
      "     ----------------------------------       12.9/15.0 MB 1.9 MB/s eta 0:00:02\n",
      "     ----------------------------------       13.0/15.0 MB 1.9 MB/s eta 0:00:02\n",
      "     ----------------------------------       13.0/15.0 MB 1.9 MB/s eta 0:00:02\n",
      "     ----------------------------------       13.1/15.0 MB 1.9 MB/s eta 0:00:02\n",
      "     -----------------------------------      13.2/15.0 MB 1.9 MB/s eta 0:00:01\n",
      "     -----------------------------------      13.3/15.0 MB 1.9 MB/s eta 0:00:01\n",
      "     -----------------------------------      13.3/15.0 MB 1.9 MB/s eta 0:00:01\n",
      "     -----------------------------------      13.4/15.0 MB 1.9 MB/s eta 0:00:01\n",
      "     -----------------------------------      13.5/15.0 MB 1.9 MB/s eta 0:00:01\n",
      "     ------------------------------------     13.6/15.0 MB 1.9 MB/s eta 0:00:01\n",
      "     ------------------------------------     13.7/15.0 MB 1.9 MB/s eta 0:00:01\n",
      "     ------------------------------------     13.8/15.0 MB 1.9 MB/s eta 0:00:01\n",
      "     ------------------------------------     13.8/15.0 MB 1.9 MB/s eta 0:00:01\n",
      "     -------------------------------------    13.9/15.0 MB 1.9 MB/s eta 0:00:01\n",
      "     -------------------------------------    14.0/15.0 MB 1.9 MB/s eta 0:00:01\n",
      "     -------------------------------------    14.1/15.0 MB 1.9 MB/s eta 0:00:01\n",
      "     -------------------------------------    14.2/15.0 MB 1.9 MB/s eta 0:00:01\n",
      "     --------------------------------------   14.3/15.0 MB 1.9 MB/s eta 0:00:01\n",
      "     --------------------------------------   14.4/15.0 MB 1.9 MB/s eta 0:00:01\n",
      "     --------------------------------------   14.5/15.0 MB 1.9 MB/s eta 0:00:01\n",
      "     --------------------------------------   14.5/15.0 MB 1.9 MB/s eta 0:00:01\n",
      "     --------------------------------------   14.6/15.0 MB 1.9 MB/s eta 0:00:01\n",
      "     ---------------------------------------  14.7/15.0 MB 1.9 MB/s eta 0:00:01\n",
      "     ---------------------------------------  14.7/15.0 MB 1.8 MB/s eta 0:00:01\n",
      "     ---------------------------------------  14.7/15.0 MB 1.8 MB/s eta 0:00:01\n",
      "     ---------------------------------------  14.8/15.0 MB 1.8 MB/s eta 0:00:01\n",
      "     ---------------------------------------  14.8/15.0 MB 1.8 MB/s eta 0:00:01\n",
      "     ---------------------------------------  14.8/15.0 MB 1.8 MB/s eta 0:00:01\n",
      "     ---------------------------------------  14.9/15.0 MB 1.8 MB/s eta 0:00:01\n",
      "     ---------------------------------------  14.9/15.0 MB 1.8 MB/s eta 0:00:01\n",
      "     ---------------------------------------  14.9/15.0 MB 1.8 MB/s eta 0:00:01\n",
      "     ---------------------------------------  14.9/15.0 MB 1.8 MB/s eta 0:00:01\n",
      "     ---------------------------------------  14.9/15.0 MB 1.8 MB/s eta 0:00:01\n",
      "     ---------------------------------------  14.9/15.0 MB 1.8 MB/s eta 0:00:01\n",
      "     ---------------------------------------  15.0/15.0 MB 1.7 MB/s eta 0:00:01\n",
      "     ---------------------------------------  15.0/15.0 MB 1.7 MB/s eta 0:00:01\n",
      "     ---------------------------------------  15.0/15.0 MB 1.7 MB/s eta 0:00:01\n",
      "     ---------------------------------------  15.0/15.0 MB 1.7 MB/s eta 0:00:01\n",
      "     ---------------------------------------- 15.0/15.0 MB 1.7 MB/s eta 0:00:00\n",
      "Installing collected packages: numpy\n",
      "Successfully installed numpy-1.25.1\n",
      "Note: you may need to restart the kernel to use updated packages.\n"
     ]
    }
   ],
   "source": [
    "pip install numpy"
   ]
  },
  {
   "cell_type": "markdown",
   "metadata": {},
   "source": [
    "# Numpy"
   ]
  },
  {
   "cell_type": "code",
   "execution_count": 3,
   "metadata": {},
   "outputs": [],
   "source": [
    "import numpy as np"
   ]
  },
  {
   "cell_type": "markdown",
   "metadata": {},
   "source": [
    "## Arreglos"
   ]
  },
  {
   "cell_type": "code",
   "execution_count": 4,
   "metadata": {},
   "outputs": [
    {
     "name": "stdout",
     "output_type": "stream",
     "text": [
      "[1 2 3]\n"
     ]
    }
   ],
   "source": [
    "arr = np.array([1,2,3])\n",
    "print(arr)"
   ]
  },
  {
   "cell_type": "code",
   "execution_count": 5,
   "metadata": {},
   "outputs": [
    {
     "name": "stdout",
     "output_type": "stream",
     "text": [
      "[[1 2 3]\n",
      " [4 5 6]]\n"
     ]
    }
   ],
   "source": [
    "arr = np.array(([1,2,3,],[4,5,6]))\n",
    "print(arr)"
   ]
  },
  {
   "cell_type": "code",
   "execution_count": 7,
   "metadata": {},
   "outputs": [
    {
     "name": "stdout",
     "output_type": "stream",
     "text": [
      "3\n",
      "[[[1 2 3 4 5 6]]]\n",
      "[[1 2 3 4 5 6]]\n",
      "[1 2 3 4 5 6]\n",
      "1\n"
     ]
    }
   ],
   "source": [
    "arr = np.array([1,2,3,4,5,6], ndmin=3)\n",
    "\n",
    "print(arr.ndim)\n",
    "\n",
    "print(arr)\n",
    "print(arr[0])\n",
    "print(arr[0][0])\n",
    "print(arr[0][0][0])"
   ]
  },
  {
   "cell_type": "code",
   "execution_count": 8,
   "metadata": {},
   "outputs": [
    {
     "name": "stdout",
     "output_type": "stream",
     "text": [
      "[[0. 0.]\n",
      " [0. 0.]]\n"
     ]
    }
   ],
   "source": [
    "arr = np.zeros((2,2))\n",
    "print(arr)"
   ]
  },
  {
   "cell_type": "code",
   "execution_count": 9,
   "metadata": {},
   "outputs": [
    {
     "name": "stdout",
     "output_type": "stream",
     "text": [
      "[[1. 1.]\n",
      " [1. 1.]]\n"
     ]
    }
   ],
   "source": [
    "arr = np.ones((2,2))\n",
    "print(arr)"
   ]
  },
  {
   "cell_type": "code",
   "execution_count": 11,
   "metadata": {},
   "outputs": [
    {
     "name": "stdout",
     "output_type": "stream",
     "text": [
      "[[0.09096471 0.18839022 0.04501853]\n",
      " [0.20172307 0.4436758  0.91488362]\n",
      " [0.58739797 0.78979865 0.85235182]]\n"
     ]
    }
   ],
   "source": [
    "arr = np.random.rand(3,3)\n",
    "print (arr)"
   ]
  },
  {
   "cell_type": "markdown",
   "metadata": {},
   "source": [
    "## Operaciones"
   ]
  },
  {
   "cell_type": "code",
   "execution_count": 13,
   "metadata": {},
   "outputs": [
    {
     "name": "stdout",
     "output_type": "stream",
     "text": [
      "[5 7 9]\n"
     ]
    }
   ],
   "source": [
    "arr1 = [1,2,3]\n",
    "arr2 = [4,5,6]\n",
    "arr3 = np.add(arr1, arr2)\n",
    "print (arr3)"
   ]
  },
  {
   "cell_type": "code",
   "execution_count": 14,
   "metadata": {},
   "outputs": [
    {
     "name": "stdout",
     "output_type": "stream",
     "text": [
      "[-3 -3 -3]\n"
     ]
    }
   ],
   "source": [
    "arr1 = [1,2,3]\n",
    "arr2 = [4,5,6]\n",
    "arr3 = np.subtract(arr1, arr2)\n",
    "print (arr3)"
   ]
  },
  {
   "cell_type": "code",
   "execution_count": 15,
   "metadata": {},
   "outputs": [
    {
     "name": "stdout",
     "output_type": "stream",
     "text": [
      "[ 4 10 18]\n"
     ]
    }
   ],
   "source": [
    "arr1 = [1,2,3]\n",
    "arr2 = [4,5,6]\n",
    "arr3 = np.multiply(arr1, arr2)\n",
    "print (arr3)"
   ]
  },
  {
   "cell_type": "code",
   "execution_count": 16,
   "metadata": {},
   "outputs": [
    {
     "name": "stdout",
     "output_type": "stream",
     "text": [
      "[0.25 0.4  0.5 ]\n"
     ]
    }
   ],
   "source": [
    "arr1 = [1,2,3]\n",
    "arr2 = [4,5,6]\n",
    "arr3 = np.divide(arr1, arr2)\n",
    "print (arr3)"
   ]
  },
  {
   "cell_type": "markdown",
   "metadata": {},
   "source": [
    "## Agregación"
   ]
  },
  {
   "cell_type": "code",
   "execution_count": 19,
   "metadata": {},
   "outputs": [
    {
     "name": "stdout",
     "output_type": "stream",
     "text": [
      "4.333333333333333\n"
     ]
    }
   ],
   "source": [
    "arr = [1,5,7]\n",
    "media = np.mean(arr)\n",
    "print(media)"
   ]
  },
  {
   "cell_type": "code",
   "execution_count": 21,
   "metadata": {},
   "outputs": [
    {
     "name": "stdout",
     "output_type": "stream",
     "text": [
      "5.0\n"
     ]
    }
   ],
   "source": [
    "arr = [1,5,7]\n",
    "mediana = np.median(arr)\n",
    "print(mediana)"
   ]
  },
  {
   "cell_type": "code",
   "execution_count": 22,
   "metadata": {},
   "outputs": [
    {
     "name": "stdout",
     "output_type": "stream",
     "text": [
      "7\n"
     ]
    }
   ],
   "source": [
    "arr = [1,5,7]\n",
    "maximo = np.max(arr)\n",
    "print(maximo)"
   ]
  },
  {
   "cell_type": "code",
   "execution_count": 23,
   "metadata": {},
   "outputs": [
    {
     "name": "stdout",
     "output_type": "stream",
     "text": [
      "1\n"
     ]
    }
   ],
   "source": [
    "arr = [1,5,7]\n",
    "minimo = np.min(arr)\n",
    "print(minimo)"
   ]
  },
  {
   "cell_type": "markdown",
   "metadata": {},
   "source": [
    "## Indexación"
   ]
  },
  {
   "cell_type": "code",
   "execution_count": 25,
   "metadata": {},
   "outputs": [
    {
     "name": "stdout",
     "output_type": "stream",
     "text": [
      "1\n"
     ]
    }
   ],
   "source": [
    "arr = np.array([1,5,7])\n",
    "print(arr[0])\n"
   ]
  },
  {
   "cell_type": "code",
   "execution_count": 26,
   "metadata": {},
   "outputs": [
    {
     "name": "stdout",
     "output_type": "stream",
     "text": [
      "7\n"
     ]
    }
   ],
   "source": [
    "arr = np.array([1,5,7])\n",
    "print(arr[-1])\n"
   ]
  },
  {
   "cell_type": "code",
   "execution_count": 28,
   "metadata": {},
   "outputs": [
    {
     "name": "stdout",
     "output_type": "stream",
     "text": [
      "3\n"
     ]
    }
   ],
   "source": [
    "arr = np.array(([1,5,7],[1,2,3]))\n",
    "print(arr[1,2])\n"
   ]
  },
  {
   "cell_type": "markdown",
   "metadata": {},
   "source": [
    "## Slicing - Rangos"
   ]
  },
  {
   "cell_type": "code",
   "execution_count": 29,
   "metadata": {},
   "outputs": [
    {
     "name": "stdout",
     "output_type": "stream",
     "text": [
      "[2 3 4]\n"
     ]
    }
   ],
   "source": [
    "arr = np.array([1,2,3,4,5,6])\n",
    "print(arr[1:4])"
   ]
  },
  {
   "cell_type": "code",
   "execution_count": 31,
   "metadata": {},
   "outputs": [
    {
     "name": "stdout",
     "output_type": "stream",
     "text": [
      "[2 4 6 9]\n"
     ]
    }
   ],
   "source": [
    "arr = np.array([1,2,3,4,5,6,7,9,10])\n",
    "print(arr[1:8:2])"
   ]
  },
  {
   "cell_type": "code",
   "execution_count": 32,
   "metadata": {},
   "outputs": [
    {
     "name": "stdout",
     "output_type": "stream",
     "text": [
      "[ 1  3  5  7 10]\n"
     ]
    }
   ],
   "source": [
    "arr = np.array([1,2,3,4,5,6,7,9,10])\n",
    "print(arr[::2])"
   ]
  }
 ],
 "metadata": {
  "kernelspec": {
   "display_name": "Python 3",
   "language": "python",
   "name": "python3"
  },
  "language_info": {
   "codemirror_mode": {
    "name": "ipython",
    "version": 3
   },
   "file_extension": ".py",
   "mimetype": "text/x-python",
   "name": "python",
   "nbconvert_exporter": "python",
   "pygments_lexer": "ipython3",
   "version": "3.11.4"
  },
  "orig_nbformat": 4
 },
 "nbformat": 4,
 "nbformat_minor": 2
}
